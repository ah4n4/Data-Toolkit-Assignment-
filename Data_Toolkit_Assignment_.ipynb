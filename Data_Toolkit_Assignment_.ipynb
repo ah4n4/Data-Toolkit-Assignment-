{
  "nbformat": 4,
  "nbformat_minor": 0,
  "metadata": {
    "colab": {
      "provenance": []
    },
    "kernelspec": {
      "name": "python3",
      "display_name": "Python 3"
    },
    "language_info": {
      "name": "python"
    }
  },
  "cells": [
    {
      "cell_type": "markdown",
      "source": [
        "# **Data** **Toolkit**"
      ],
      "metadata": {
        "id": "8eqIE7UBqQ5u"
      }
    },
    {
      "cell_type": "markdown",
      "source": [
        "# **Theory**"
      ],
      "metadata": {
        "id": "h4H8wDmpqYmH"
      }
    },
    {
      "cell_type": "markdown",
      "source": [
        "# 1.What is NumPy, and why is it widely used in Python?\n",
        "   - **NumPy** (Numerical Python) is a powerful Python library used for numerical computing. It provides support for large, multi-dimensional arrays and matrices, along with a wide collection of mathematical functions to operate on these arrays efficiently.\n",
        "\n",
        "### **Why NumPy is Widely Used:**\n",
        "\n",
        "1. **Efficient Array Operations**:\n",
        "   NumPy arrays (`ndarray`) are more efficient and faster than Python lists for numerical operations.\n",
        "\n",
        "2. **Broadcasting**:\n",
        "   It allows arithmetic operations on arrays of different shapes without writing loops.\n",
        "\n",
        "3. **Built-in Mathematical Functions**:\n",
        "   Includes functions for linear algebra, statistics, Fourier transforms, and more.\n",
        "\n",
        "4. **Memory Efficiency**:\n",
        "   NumPy uses less memory than equivalent Python data structures.\n",
        "\n",
        "5. **Integration**:\n",
        "   Works well with other libraries like pandas, matplotlib, and scikit-learn.\n",
        "\n",
        "6. **Foundation for Data Science and Machine Learning**:\n",
        "   Libraries like TensorFlow and PyTorch are built on NumPy-like arrays.\n",
        "\n",
        "### Example:\n",
        "\n",
        "```python\n",
        "import numpy as np\n",
        "\n",
        "a = np.array([1, 2, 3])\n",
        "b = np.array([4, 5, 6])\n",
        "print(a + b)  # Output: [5 7 9]\n",
        "```\n",
        "\n",
        "**In summary:** NumPy is essential for scientific computing and data analysis in Python due to its speed, functionality, and ease of use.\n"
      ],
      "metadata": {
        "id": "rsrDWuzRqdnf"
      }
    },
    {
      "cell_type": "markdown",
      "source": [
        "# 2. How does broadcasting work in NumPy?\n",
        "   - **Broadcasting** in NumPy is a powerful feature that allows arrays of different shapes to be used in arithmetic operations without explicitly reshaping them.\n",
        "\n",
        "### **How Broadcasting Works:**\n",
        "\n",
        "When performing operations on two arrays, NumPy compares their **shapes** element-wise starting from the trailing dimensions (right to left). It applies these rules:\n",
        "\n",
        "1. **If the dimensions are equal**, they are compatible.\n",
        "2. **If one of the dimensions is 1**, NumPy \"stretches\" it to match the other.\n",
        "3. **If the dimensions are unequal and neither is 1**, it's an error.\n",
        "\n",
        "---\n",
        "\n",
        "### **Example 1: Simple Broadcasting**\n",
        "\n",
        "```python\n",
        "import numpy as np\n",
        "\n",
        "a = np.array([1, 2, 3])\n",
        "b = 5\n",
        "print(a + b)\n",
        "```\n",
        "\n",
        "**Output:** `[6 7 8]`\n",
        "Explanation: `b` is a scalar, so it’s broadcast to match the shape of `a`.\n",
        "\n",
        "---\n",
        "\n",
        "### **Example 2: 2D and 1D Broadcasting**\n",
        "\n",
        "```python\n",
        "a = np.array([[1, 2, 3],\n",
        "              [4, 5, 6]])\n",
        "\n",
        "b = np.array([10, 20, 30])\n",
        "\n",
        "print(a + b)\n",
        "```\n",
        "\n",
        "**Output:**\n",
        "\n",
        "```\n",
        "[[11 22 33]\n",
        " [14 25 36]]\n",
        "```\n",
        "\n",
        "Explanation: `b` (shape `(3,)`) is broadcast across each row of `a` (shape `(2, 3)`).\n",
        "\n",
        "---\n",
        "\n",
        "### **Why Broadcasting is Useful:**\n",
        "\n",
        "* Avoids writing loops.\n",
        "* Makes code more concise and faster.\n",
        "* Enables efficient computation on arrays with different shapes.\n",
        "\n",
        "---\n",
        "\n",
        "**In short:** Broadcasting lets NumPy automatically expand smaller arrays to match the shape of larger ones during arithmetic operations.\n"
      ],
      "metadata": {
        "id": "IvANS5Fiqvms"
      }
    },
    {
      "cell_type": "markdown",
      "source": [
        "# 3.What is a Pandas DataFrame?\n",
        "   - A **Pandas DataFrame** is a **two-dimensional**, **labeled** data structure in Python that is part of the **pandas** library. It is similar to a table in a database or an Excel spreadsheet, with **rows and columns**.\n",
        "\n",
        "### **Key Features of a DataFrame:**\n",
        "\n",
        "* **Rows and Columns**: Like a table, with labels (called **index** for rows and **columns** for columns).\n",
        "* **Flexible Data Types**: Each column can hold a different data type (e.g., integers, floats, strings).\n",
        "* **Powerful Operations**: Supports filtering, sorting, aggregation, and data manipulation.\n",
        "\n",
        "---\n",
        "\n",
        "### **Example:**\n",
        "\n",
        "```python\n",
        "import pandas as pd\n",
        "\n",
        "data = {\n",
        "    'Name': ['Alice', 'Bob', 'Charlie'],\n",
        "    'Age': [25, 30, 35],\n",
        "    'City': ['Delhi', 'Mumbai', 'Chennai']\n",
        "}\n",
        "\n",
        "df = pd.DataFrame(data)\n",
        "print(df)\n",
        "```\n",
        "\n",
        "**Output:**\n",
        "\n",
        "```\n",
        "      Name  Age    City\n",
        "0    Alice   25   Delhi\n",
        "1      Bob   30  Mumbai\n",
        "2  Charlie   35 Chennai\n",
        "```\n",
        "\n",
        "---\n",
        "\n",
        "### **Why DataFrames Are Useful:**\n",
        "\n",
        "* Easy to **load**, **clean**, **analyze**, and **visualize** data.\n",
        "* Built-in support for **CSV, Excel, SQL**, and more formats.\n",
        "* Powerful integration with **NumPy**, **matplotlib**, and **scikit-learn**.\n",
        "\n",
        "---\n",
        "\n",
        "**In short:**\n",
        "A **Pandas DataFrame** is a structured way to store and work with tabular data in Python, making data analysis simple and efficient.\n"
      ],
      "metadata": {
        "id": "s4bcespjq94p"
      }
    },
    {
      "cell_type": "markdown",
      "source": [
        "# 4.Explain the use of the groupby() method in Pandas.\n",
        "  - The **`groupby()`** method in **Pandas** is used to **split** data into groups based on some criteria, **apply** a function (like sum, mean, count, etc.) to each group, and then **combine** the results into a new DataFrame or Series.\n",
        "\n",
        "---\n",
        "\n",
        "### **Purpose of `groupby()`**:\n",
        "\n",
        "To perform **group-wise operations** such as:\n",
        "\n",
        "* Aggregation (e.g., sum, mean, max)\n",
        "* Transformation\n",
        "* Filtering\n",
        "\n",
        "---\n",
        "\n",
        "### **Syntax**:\n",
        "\n",
        "```python\n",
        "df.groupby('column_name')\n",
        "```\n",
        "\n",
        "---\n",
        "\n",
        "### **Example**:\n",
        "\n",
        "```python\n",
        "import pandas as pd\n",
        "\n",
        "data = {\n",
        "    'Department': ['Sales', 'Sales', 'HR', 'HR', 'IT'],\n",
        "    'Employee': ['Alice', 'Bob', 'Charlie', 'David', 'Eva'],\n",
        "    'Salary': [50000, 60000, 45000, 47000, 70000]\n",
        "}\n",
        "\n",
        "df = pd.DataFrame(data)\n",
        "\n",
        "grouped = df.groupby('Department')['Salary'].mean()\n",
        "print(grouped)\n",
        "```\n",
        "\n",
        "**Output:**\n",
        "\n",
        "```\n",
        "Department\n",
        "HR       46000.0\n",
        "IT       70000.0\n",
        "Sales    55000.0\n",
        "Name: Salary, dtype: float64\n",
        "```\n",
        "\n",
        "---\n",
        "\n",
        "### **What Happened Here**:\n",
        "\n",
        "* The data was **grouped by \"Department\"**.\n",
        "* Then the **average salary** for each department was calculated.\n",
        "\n",
        "---\n",
        "\n",
        "### **Common Aggregation Functions**:\n",
        "\n",
        "* `.sum()` – Total\n",
        "* `.mean()` – Average\n",
        "* `.count()` – Number of entries\n",
        "* `.min()`, `.max()` – Min/Max value\n",
        "\n",
        "---\n",
        "\n",
        "**In short**:\n",
        "The `groupby()` method in Pandas is used to **analyze and summarize** data by grouping rows that share the same value in one or more columns, then applying computations on those groups.\n"
      ],
      "metadata": {
        "id": "oZ9ZAhyTrMB3"
      }
    },
    {
      "cell_type": "markdown",
      "source": [
        "# 5.Why is Seaborn preferred for statistical visualizations?\n",
        "   - **Seaborn** is preferred for statistical visualizations in Python because it is a **high-level data visualization library** built on top of **matplotlib** and tightly integrated with **pandas**.\n",
        "\n",
        "---\n",
        "\n",
        "### **Reasons Seaborn is Preferred:**\n",
        "\n",
        "1. **Built-in Statistical Plots**:\n",
        "   Seaborn provides ready-to-use plots for statistical analysis like:\n",
        "\n",
        "   * Histogram (`histplot`)\n",
        "   * Box plot (`boxplot`)\n",
        "   * Violin plot (`violinplot`)\n",
        "   * Scatter plot with regression (`regplot`)\n",
        "\n",
        "2. **Better Aesthetics**:\n",
        "   Seaborn’s default themes and color palettes make visualizations more attractive and informative.\n",
        "\n",
        "3. **Easy Integration with Pandas**:\n",
        "   Directly works with DataFrames and column names—no need to extract data manually.\n",
        "\n",
        "4. **Automatic Handling of Aggregation and Grouping**:\n",
        "   Functions like `barplot()` or `pointplot()` can automatically compute means and confidence intervals.\n",
        "\n",
        "5. **Less Code, More Power**:\n",
        "   Seaborn requires less code to produce complex plots compared to matplotlib.\n",
        "\n",
        "6. **Support for Multi-Plot Grids**:\n",
        "   Easily create subplot grids with `FacetGrid`, `pairplot`, or `catplot`.\n",
        "\n",
        "---\n",
        "\n",
        "### **Example**:\n",
        "\n",
        "```python\n",
        "import seaborn as sns\n",
        "import pandas as pd\n",
        "\n",
        "# Sample Data\n",
        "df = pd.DataFrame({\n",
        "    'Gender': ['Male', 'Female', 'Female', 'Male', 'Female'],\n",
        "    'Score': [80, 85, 90, 75, 95]\n",
        "})\n",
        "\n",
        "# Boxplot by Gender\n",
        "sns.boxplot(x='Gender', y='Score', data=df)\n",
        "```\n",
        "\n",
        "---\n",
        "\n",
        "### **In short**:\n",
        "\n",
        "**Seaborn** is preferred for statistical visualization because it combines **simplicity**, **beautiful design**, and **powerful features** for analyzing and plotting complex datasets with minimal effort.\n"
      ],
      "metadata": {
        "id": "UGUzQFTbrYID"
      }
    },
    {
      "cell_type": "markdown",
      "source": [
        "# 6.What are the differences between NumPy arrays and Python lists?\n",
        "   - Here are the key **differences between NumPy arrays and Python lists**:\n",
        "\n",
        "| Feature              | **NumPy Array**                                                              | **Python List**                          |\n",
        "| -------------------- | ---------------------------------------------------------------------------- | ---------------------------------------- |\n",
        "| **Data Type**        | All elements must be of the **same type**                                    | Can contain **mixed data types**         |\n",
        "| **Performance**      | **Faster and more efficient** for numerical operations                       | Slower, especially for large data        |\n",
        "| **Memory Usage**     | **Less memory** (compact storage)                                            | More memory                              |\n",
        "| **Functionality**    | Supports **vectorized operations**, broadcasting, and mathematical functions | Basic operations; no direct math support |\n",
        "| **Multidimensional** | Easily supports **multi-dimensional** arrays (e.g., 2D, 3D)                  | Nested lists needed for multi-dimensions |\n",
        "| **Convenience**      | Powerful functions for linear algebra, statistics, etc.                      | Requires manual implementation           |\n",
        "| **Indexing/Slicing** | More advanced slicing and boolean indexing                                   | Simple slicing only                      |\n",
        "\n",
        "---\n",
        "\n",
        "### **Example**:\n",
        "\n",
        "#### NumPy Array:\n",
        "\n",
        "```python\n",
        "import numpy as np\n",
        "arr = np.array([1, 2, 3])\n",
        "print(arr * 2)  # Output: [2 4 6]\n",
        "```\n",
        "\n",
        "#### Python List:\n",
        "\n",
        "```python\n",
        "lst = [1, 2, 3]\n",
        "print(lst * 2)  # Output: [1, 2, 3, 1, 2, 3] → repeats the list\n",
        "```\n",
        "\n",
        "---\n",
        "\n",
        "### **In short**:\n",
        "\n",
        "**NumPy arrays** are faster, use less memory, and are better suited for mathematical and large-scale data operations, while **Python lists** are more flexible but less efficient for numerical tasks.\n",
        ""
      ],
      "metadata": {
        "id": "i2jnA6Z1rkg9"
      }
    },
    {
      "cell_type": "markdown",
      "source": [
        "# 7.What is a heatmap, and when should it be used?\n",
        "   - A **heatmap** is a **data visualization technique** that uses **color** to represent values in a matrix or 2D dataset. Each cell's color intensity reflects the value it holds—typically, higher values are shown with darker or more intense colors.\n",
        "\n",
        "---\n",
        "\n",
        "### **When to Use a Heatmap:**\n",
        "\n",
        "1. **To Show Correlation**:\n",
        "   Visualize relationships between variables (e.g., using a correlation matrix).\n",
        "\n",
        "2. **To Spot Patterns**:\n",
        "   Quickly identify trends, clusters, or outliers in large datasets.\n",
        "\n",
        "3. **To Compare Categories**:\n",
        "   See how different categories or features relate across dimensions.\n",
        "\n",
        "4. **To Visualize Missing Data**:\n",
        "   Use it to display the presence or absence of data (e.g., `sns.heatmap(df.isnull())`).\n",
        "\n",
        "---\n",
        "\n",
        "### **Example (Correlation Heatmap):**\n",
        "\n",
        "```python\n",
        "import seaborn as sns\n",
        "import pandas as pd\n",
        "import matplotlib.pyplot as plt\n",
        "\n",
        "# Sample data\n",
        "data = pd.DataFrame({\n",
        "    'Math': [80, 90, 70, 60],\n",
        "    'Physics': [85, 88, 75, 65],\n",
        "    'Chemistry': [78, 85, 72, 68]\n",
        "})\n",
        "\n",
        "# Correlation heatmap\n",
        "sns.heatmap(data.corr(), annot=True, cmap='coolwarm')\n",
        "plt.show()\n",
        "```\n",
        "\n",
        "---\n",
        "\n",
        "### **Key Features:**\n",
        "\n",
        "* Uses color gradients to represent data values.\n",
        "* Can be customized with annotations, color maps, and masks.\n",
        "* Works well for visualizing large matrices or grids.\n",
        "\n",
        "---\n",
        "\n",
        "### **In short**:\n",
        "\n",
        "A **heatmap** is ideal for visualizing **data relationships** and **patterns** in 2D datasets, especially when you want to understand how different variables are **correlated or distributed** visually.\n"
      ],
      "metadata": {
        "id": "TEHoGmdyr1IG"
      }
    },
    {
      "cell_type": "markdown",
      "source": [
        "# 8.What does the term “vectorized operation” mean in NumPy/\n",
        "  - In **NumPy**, a **vectorized operation** means performing **operations on entire arrays (vectors, matrices, etc.) without using explicit loops**.\n",
        "\n",
        "---\n",
        "\n",
        "### **What It Means:**\n",
        "\n",
        "Instead of processing elements one by one with a `for` loop, NumPy applies the operation to **all elements at once** using optimized **C-based code** under the hood. This makes the code:\n",
        "\n",
        "* **Faster**\n",
        "* **Cleaner**\n",
        "* **More readable**\n",
        "\n",
        "---\n",
        "\n",
        "### **Example: Without Vectorization (using a loop)**\n",
        "\n",
        "```python\n",
        "import numpy as np\n",
        "\n",
        "a = np.array([1, 2, 3, 4])\n",
        "result = []\n",
        "\n",
        "for i in a:\n",
        "    result.append(i * 2)\n",
        "\n",
        "print(result)  # Output: [2, 4, 6, 8]\n",
        "```\n",
        "\n",
        "---\n",
        "\n",
        "### **With Vectorized Operation:**\n",
        "\n",
        "```python\n",
        "a = np.array([1, 2, 3, 4])\n",
        "result = a * 2\n",
        "print(result)  # Output: [2 4 6 8]\n",
        "```\n",
        "\n",
        "---\n",
        "\n",
        "### **Benefits of Vectorized Operations:**\n",
        "\n",
        "* **Performance**: Much faster than Python loops, especially with large datasets.\n",
        "* **Simplicity**: Less code and no manual loops.\n",
        "* **Optimization**: Uses highly optimized native code (C/Fortran).\n",
        "\n",
        "---\n",
        "\n",
        "### **In short**:\n",
        "\n",
        "A **vectorized operation** in NumPy means applying operations to **entire arrays at once**, which leads to **faster and more efficient** numerical computations compared to traditional Python loops.\n"
      ],
      "metadata": {
        "id": "MvJTqrkwsAts"
      }
    },
    {
      "cell_type": "markdown",
      "source": [
        "# 9.How does Matplotlib differ from Plotly?\n",
        "   - ### **Difference Between Matplotlib and Plotly:**\n",
        "\n",
        "| Feature           | **Matplotlib**                             | **Plotly**                                    |\n",
        "| ----------------- | ------------------------------------------ | --------------------------------------------- |\n",
        "| **Type**          | Static plotting library                    | Interactive plotting library                  |\n",
        "| **Interactivity** | Basic (with `mplcursors`, sliders)         | Highly interactive (zoom, hover, tooltips)    |\n",
        "| **Ease of Use**   | Straightforward for basic plots            | Slightly more complex but richer features     |\n",
        "| **Customization** | Very flexible and customizable             | Also customizable, especially with dashboards |\n",
        "| **Integration**   | Good with Jupyter, scripts, and GUIs       | Best with Jupyter, web apps, Dash             |\n",
        "| **3D Plots**      | Supported (via `mpl_toolkits`) but limited | Strong 3D support with interactive controls   |\n",
        "| **Output Format** | Static images (PNG, SVG, PDF)              | Interactive HTML, JSON, web-based formats     |\n",
        "| **Speed**         | Fast for simple plots                      | Can be slower with large datasets             |\n",
        "| **Use Case**      | Academic papers, quick analysis            | Web apps, dashboards, interactive reports     |\n",
        "\n",
        "---\n",
        "\n",
        "### **Example: Line Plot Comparison**\n",
        "\n",
        "**Matplotlib:**\n",
        "\n",
        "```python\n",
        "import matplotlib.pyplot as plt\n",
        "\n",
        "plt.plot([1, 2, 3], [4, 5, 6])\n",
        "plt.title(\"Matplotlib Line Plot\")\n",
        "plt.show()\n",
        "```\n",
        "\n",
        "**Plotly:**\n",
        "\n",
        "```python\n",
        "import plotly.express as px\n",
        "\n",
        "fig = px.line(x=[1, 2, 3], y=[4, 5, 6], title=\"Plotly Line Plot\")\n",
        "fig.show()\n",
        "```\n",
        "\n",
        "---\n",
        "\n",
        "### **In short**:\n",
        "\n",
        "* **Matplotlib** is best for **static, publication-quality plots**.\n",
        "* **Plotly** is ideal for **interactive visualizations**, especially in **web-based or dashboard applications**.\n"
      ],
      "metadata": {
        "id": "KV162o50sMlE"
      }
    },
    {
      "cell_type": "markdown",
      "source": [
        "# 10.What is the significance of hierarchical indexing in Pandas?\n",
        "  - ### **Hierarchical Indexing in Pandas (MultiIndex)**\n",
        "\n",
        "**Hierarchical indexing**, also known as **MultiIndex**, allows you to use **multiple index levels** (i.e., multiple keys) on rows or columns in a Pandas DataFrame or Series. It provides a way to work with **higher-dimensional data** in a **2D format**.\n",
        "\n",
        "---\n",
        "\n",
        "### ✅ **Significance of Hierarchical Indexing:**\n",
        "\n",
        "1. **Organizes Complex Data Clearly**\n",
        "   Helps represent data with multiple dimensions, such as Year, Country, and Product, in a structured tabular form.\n",
        "\n",
        "2. **Enables Advanced Grouping and Aggregation**\n",
        "   Makes it easier to perform group-wise operations across multiple levels.\n",
        "\n",
        "3. **Flexible Data Selection**\n",
        "   You can access data at multiple levels using `.loc[]`, `.xs()`, and slicing.\n",
        "\n",
        "4. **Better for Time Series or Panel Data**\n",
        "   Often used in financial data, sales reports, or multi-featured datasets.\n",
        "\n",
        "---\n",
        "\n",
        "### 📘 **Example:**\n",
        "\n",
        "```python\n",
        "import pandas as pd\n",
        "\n",
        "# Creating a MultiIndex DataFrame\n",
        "data = {\n",
        "    'Sales': [100, 150, 200, 130],\n",
        "    'Profit': [10, 15, 25, 12]\n",
        "}\n",
        "\n",
        "index = pd.MultiIndex.from_tuples([\n",
        "    ('2023', 'Q1'),\n",
        "    ('2023', 'Q2'),\n",
        "    ('2024', 'Q1'),\n",
        "    ('2024', 'Q2')\n",
        "], names=['Year', 'Quarter'])\n",
        "\n",
        "df = pd.DataFrame(data, index=index)\n",
        "print(df)\n",
        "```\n",
        "\n",
        "**Output:**\n",
        "\n",
        "```\n",
        "             Sales  Profit\n",
        "Year Quarter              \n",
        "2023 Q1        100      10\n",
        "     Q2        150      15\n",
        "2024 Q1        200      25\n",
        "     Q2        130      12\n",
        "```\n",
        "\n",
        "---\n",
        "\n",
        "### 🔍 **Accessing Data with Hierarchical Index:**\n",
        "\n",
        "```python\n",
        "# Get all data for year 2023\n",
        "print(df.loc['2023'])\n",
        "\n",
        "# Get sales data only\n",
        "print(df['Sales'])\n",
        "\n",
        "# Cross-section for Q1 across all years\n",
        "print(df.xs('Q1', level='Quarter'))\n",
        "```\n",
        "\n",
        "---\n",
        "\n",
        "### **In short**:\n",
        "\n",
        "**Hierarchical indexing** in Pandas allows you to work with complex, multi-level data efficiently—making grouping, filtering, and analysis easier and more powerful.\n"
      ],
      "metadata": {
        "id": "bxwnNeeusc75"
      }
    },
    {
      "cell_type": "markdown",
      "source": [
        "# 11.What is the role of Seaborn’s pairplot() function?\n",
        "  - Seaborn’s **`pairplot()`** function is used to **visualize relationships between multiple variables** in a dataset by creating a matrix of plots.\n",
        "\n",
        "---\n",
        "\n",
        "### **Role of `pairplot()`**\n",
        "\n",
        "* **Plots pairwise relationships** between numerical variables in a DataFrame.\n",
        "* Shows **scatter plots** for each pair of variables (off-diagonal).\n",
        "* Shows **histograms** or **kernel density estimates (KDEs)** on the diagonal to display the distribution of each variable.\n",
        "* Can **color-code** points based on a categorical variable to show class separation.\n",
        "\n",
        "---\n",
        "\n",
        "### **Why Use `pairplot()`?**\n",
        "\n",
        "* Quickly explore correlations and patterns among multiple variables.\n",
        "* Identify clusters, trends, or outliers.\n",
        "* Great for **exploratory data analysis (EDA)**.\n",
        "\n",
        "---\n",
        "\n",
        "### **Example:**\n",
        "\n",
        "```python\n",
        "import seaborn as sns\n",
        "import pandas as pd\n",
        "\n",
        "# Sample dataset\n",
        "df = sns.load_dataset('iris')\n",
        "\n",
        "# Pairplot with species as hue\n",
        "sns.pairplot(df, hue='species')\n",
        "```\n",
        "\n",
        "This will plot scatterplots between each pair of numerical features and histograms on the diagonal, colored by species.\n",
        "\n",
        "---\n",
        "\n",
        "### **In short**:\n",
        "\n",
        "`pairplot()` provides a **quick and comprehensive visual summary** of relationships and distributions across several variables, making it a powerful tool for initial data exploration.\n"
      ],
      "metadata": {
        "id": "6Dd24FGrsrPX"
      }
    },
    {
      "cell_type": "markdown",
      "source": [
        "# 12.What is the purpose of the describe() function in Pandas?\n",
        "  - The **`describe()`** function in Pandas is used to generate **summary statistics** of a DataFrame or Series.\n",
        "\n",
        "---\n",
        "\n",
        "### **Purpose of `describe()`**\n",
        "\n",
        "* Provides a quick overview of the **distribution and key statistics** of numerical data.\n",
        "* Helps understand the **central tendency**, **spread**, and **shape** of the data.\n",
        "\n",
        "---\n",
        "\n",
        "### **What It Shows (for numerical data):**\n",
        "\n",
        "* **count** — Number of non-missing values\n",
        "* **mean** — Average value\n",
        "* **std** — Standard deviation (spread)\n",
        "* **min** — Minimum value\n",
        "* **25%** — 1st quartile (25th percentile)\n",
        "* **50%** — Median (50th percentile)\n",
        "* **75%** — 3rd quartile (75th percentile)\n",
        "* **max** — Maximum value\n",
        "\n",
        "---\n",
        "\n",
        "### **Example:**\n",
        "\n",
        "```python\n",
        "import pandas as pd\n",
        "\n",
        "data = {'Age': [25, 30, 22, 40, 28],\n",
        "        'Salary': [50000, 60000, 45000, 80000, 52000]}\n",
        "\n",
        "df = pd.DataFrame(data)\n",
        "\n",
        "print(df.describe())\n",
        "```\n",
        "\n",
        "**Output:**\n",
        "\n",
        "```\n",
        "             Age        Salary\n",
        "count   5.000000      5.000000\n",
        "mean   29.000000  57400.000000\n",
        "std     7.071068  13592.786507\n",
        "min    22.000000  45000.000000\n",
        "25%    25.000000  50000.000000\n",
        "50%    28.000000  52000.000000\n",
        "75%    30.000000  60000.000000\n",
        "max    40.000000  80000.000000\n",
        "```\n",
        "\n",
        "---\n",
        "\n",
        "### **Additional Notes:**\n",
        "\n",
        "* For **categorical data**, `describe()` shows count, unique values, top (most frequent) value, and frequency.\n",
        "* You can use `describe(include='all')` to get summary for all columns regardless of type.\n",
        "\n",
        "---\n",
        "\n",
        "### **In short**:\n",
        "\n",
        "`describe()` gives a **quick statistical summary** of your data, helping you understand its general characteristics at a glance.\n"
      ],
      "metadata": {
        "id": "qvGPm8gps4XB"
      }
    },
    {
      "cell_type": "markdown",
      "source": [
        "# 13.Why is handling missing data important in Pandas?\n",
        "   - Handling missing data in Pandas is important because:\n",
        "\n",
        "1. **Data Integrity:** Missing data can lead to inaccurate or biased analysis if not handled properly.\n",
        "2. **Prevents Errors:** Many Pandas operations and functions may fail or produce incorrect results when missing values are present.\n",
        "3. **Improves Model Performance:** For machine learning, handling missing data ensures better model training and prediction accuracy.\n",
        "4. **Data Consistency:** It helps maintain consistency in datasets by either filling or removing missing values.\n",
        "5. **Better Insights:** Proper handling allows for clearer and more reliable insights from the data.\n",
        "\n",
        "In short, dealing with missing data ensures the quality and reliability of data analysis and processing.\n"
      ],
      "metadata": {
        "id": "hpDwMyGWtRFd"
      }
    },
    {
      "cell_type": "markdown",
      "source": [
        "# 14.What are the benefits of using Plotly for data visualization?\n",
        "  - The benefits of using Plotly for data visualization are:\n",
        "\n",
        "1. **Interactive Visualizations:** Plotly creates highly interactive charts that allow zooming, hovering, and clicking for detailed data exploration.\n",
        "2. **Wide Range of Chart Types:** Supports many chart types including line, bar, scatter, 3D plots, maps, and more.\n",
        "3. **Easy to Share:** Visualizations can be easily shared as standalone HTML files or embedded in web apps and dashboards.\n",
        "4. **Integration with Python and Other Languages:** Works seamlessly with Python, R, and JavaScript, making it versatile for different projects.\n",
        "5. **Customization:** Offers extensive customization options for styling, layouts, and annotations.\n",
        "6. **Real-time Updates:** Supports live updating graphs for streaming or real-time data.\n",
        "7. **Export Options:** Allows exporting visuals as static images or interactive web-ready formats.\n",
        "\n",
        "Overall, Plotly is powerful for creating dynamic, professional, and shareable visual data presentations.\n"
      ],
      "metadata": {
        "id": "ZHy4xhUPt-gI"
      }
    },
    {
      "cell_type": "markdown",
      "source": [
        "# 15.How does NumPy handle multidimensional arrays?\n",
        "  - NumPy handles multidimensional arrays using its core data structure called the **ndarray** (N-dimensional array). Here’s how it works:\n",
        "\n",
        "1. **Shape and Dimensions:** Each ndarray has a shape tuple that specifies the size along each dimension (e.g., `(3, 4)` for a 2D array with 3 rows and 4 columns).\n",
        "\n",
        "2. **Homogeneous Data:** All elements in a NumPy array are of the same data type, which allows efficient storage and computation.\n",
        "\n",
        "3. **Indexing and Slicing:** NumPy supports multidimensional indexing and slicing to access or modify elements in any dimension.\n",
        "\n",
        "4. **Broadcasting:** NumPy can automatically perform arithmetic operations between arrays of different shapes by “broadcasting” smaller arrays across larger ones, following specific rules.\n",
        "\n",
        "5. **Efficient Memory Layout:** Multidimensional arrays are stored in contiguous memory blocks (either row-major or column-major order), allowing fast access and vectorized operations.\n",
        "\n",
        "6. **Vectorized Operations:** NumPy enables performing element-wise operations across entire multidimensional arrays without explicit loops, improving performance.\n",
        "\n",
        "In summary, NumPy’s ndarray efficiently represents and manipulates multidimensional data with fast computation and flexible indexing.\n"
      ],
      "metadata": {
        "id": "vWH-NtjSuJb2"
      }
    },
    {
      "cell_type": "markdown",
      "source": [
        "# 16.What is the role of Bokeh in data visualization?\n",
        "   - The role of **Bokeh** in data visualization is to create **interactive, web-ready visualizations** that can be easily embedded in websites or dashboards. Key points include:\n",
        "\n",
        "1. **Interactive Plots:** Bokeh enables building plots that users can zoom, pan, hover over, and interact with dynamically.\n",
        "2. **Browser-based:** It generates visualizations as JavaScript and HTML, making them viewable directly in modern web browsers without extra plugins.\n",
        "3. **Python-friendly:** Designed for Python users, allowing you to create complex visualizations using simple Python code.\n",
        "4. **Integration:** Works well with web frameworks like Flask or Django and supports output to notebooks, standalone HTML files, or server apps.\n",
        "5. **Real-time Streaming:** Supports streaming and updating data in plots for real-time visualization.\n",
        "6. **Customizable:** Allows deep customization of plots, layouts, and widgets for rich user interfaces.\n",
        "\n",
        "In essence, Bokeh helps turn data into interactive, shareable, and web-optimized visual stories.\n"
      ],
      "metadata": {
        "id": "cwc6yh-yuUmp"
      }
    },
    {
      "cell_type": "markdown",
      "source": [
        "# 17.Explain the difference between apply() and map() in Pandas.\n",
        "   - The difference between `apply()` and `map()` in Pandas is:\n",
        "\n",
        "* **`apply()`**\n",
        "\n",
        "  * Used on **DataFrame** or **Series**.\n",
        "  * Can apply a function along an **axis** (rows or columns) of a DataFrame or element-wise on a Series.\n",
        "  * More flexible — the function can be complex and work on rows, columns, or single values.\n",
        "  * Example: Apply a function to each row or column in a DataFrame.\n",
        "\n",
        "* **`map()`**\n",
        "\n",
        "  * Used only on a **Series**.\n",
        "  * Primarily for **element-wise** transformations.\n",
        "  * Typically used to **map values** based on a dictionary, Series, or function.\n",
        "  * Good for replacing or mapping values.\n",
        "\n",
        "### Summary:\n",
        "\n",
        "| Feature          | `apply()`                                  | `map()`                          |\n",
        "| ---------------- | ------------------------------------------ | -------------------------------- |\n",
        "| Works on         | DataFrame or Series                        | Series only                      |\n",
        "| Purpose          | Apply function on rows/columns or elements | Element-wise mapping/replacement |\n",
        "| Function type    | Any function (complex or simple)           | Usually simple function or dict  |\n",
        "| Use case example | Aggregation or row-wise operation          | Value substitution or mapping    |\n",
        "\n",
        "---\n",
        "\n",
        "**Example:**\n",
        "\n",
        "```python\n",
        "# Using apply on a DataFrame row\n",
        "df.apply(lambda row: row.sum(), axis=1)\n",
        "\n",
        "# Using map on a Series to replace values\n",
        "series.map({'a': 1, 'b': 2, 'c': 3})\n",
        "```\n"
      ],
      "metadata": {
        "id": "jVa_LSrIueT9"
      }
    },
    {
      "cell_type": "markdown",
      "source": [
        "# 18.What are some advanced features of NumPy?\n",
        "   - Some advanced features of NumPy include:\n",
        "\n",
        "1. **Broadcasting:** Enables arithmetic operations on arrays of different shapes without explicit replication, simplifying code and improving efficiency.\n",
        "\n",
        "2. **Fancy Indexing and Boolean Masking:** Allows selecting and modifying subsets of data using arrays of indices or boolean conditions.\n",
        "\n",
        "3. **Structured Arrays:** Support for arrays with heterogeneous data types (like columns in a table), enabling complex data storage and manipulation.\n",
        "\n",
        "4. **Vectorized Operations:** Perform element-wise operations on whole arrays without explicit Python loops, boosting performance.\n",
        "\n",
        "5. **Universal Functions (ufuncs):** Fast, element-wise functions optimized in C for operations like sin, cos, exp, etc., with support for custom ufuncs.\n",
        "\n",
        "6. **Linear Algebra Support:** Built-in functions for matrix multiplication, decomposition (SVD, QR), eigenvalues, and more.\n",
        "\n",
        "7. **FFT (Fast Fourier Transform):** Efficient computation of Fourier transforms for signal processing.\n",
        "\n",
        "8. **Random Number Generation:** Advanced random sampling with customizable distributions using the `numpy.random` module.\n",
        "\n",
        "9. **Memory Mapping:** Ability to map large binary files on disk to arrays in memory for efficient I/O without loading entire files.\n",
        "\n",
        "10. **Integration with C/C++ and Fortran:** Ability to interface with low-level code for performance-critical applications.\n",
        "\n",
        "These features make NumPy a powerful tool for scientific computing, data analysis, and numerical simulations.\n"
      ],
      "metadata": {
        "id": "2dkINR82uxka"
      }
    },
    {
      "cell_type": "markdown",
      "source": [
        "# 19.How does Pandas simplify time series analysis?\n",
        "   - Pandas simplifies time series analysis by providing:\n",
        "\n",
        "1. **DateTimeIndex and Time-based Indexing:** Easily index, slice, and filter data by dates and times.\n",
        "\n",
        "2. **Resampling and Frequency Conversion:** Quickly change data frequency (e.g., daily to monthly) using `resample()` with aggregation methods.\n",
        "\n",
        "3. **Handling Missing Dates:** Automatically fills missing time points or handles irregular time series.\n",
        "\n",
        "4. **Time Shifts and Lags:** Functions like `shift()`, `tshift()` enable lagging or leading data for analysis.\n",
        "\n",
        "5. **Rolling Windows:** Supports moving averages, rolling sums, and other window-based calculations with `rolling()`.\n",
        "\n",
        "6. **Date and Time Arithmetic:** Perform arithmetic on dates and times (e.g., differences, offsets).\n",
        "\n",
        "7. **Built-in Time Functions:** Easy extraction of components like year, month, day, weekday, hour, etc.\n",
        "\n",
        "8. **Timezone-aware Datetime:** Supports timezone conversions and localized time series.\n",
        "\n",
        "Overall, Pandas provides powerful, intuitive tools to manipulate, analyze, and visualize time series data efficiently.\n"
      ],
      "metadata": {
        "id": "tnEqYAkkvE-h"
      }
    },
    {
      "cell_type": "markdown",
      "source": [
        "# 20.What is the role of a pivot table in Pandas?\n",
        "   - The role of a **pivot table** in Pandas is to **summarize and reorganize data** by aggregating values across multiple dimensions, making it easier to analyze and compare data.\n",
        "\n",
        "Key points:\n",
        "\n",
        "* **Aggregates data:** Computes summary statistics (like sum, mean, count) for combinations of categorical variables.\n",
        "* **Reshapes data:** Converts long-format data into a wide, table-like format.\n",
        "* **Multi-index support:** Can group by multiple rows and columns.\n",
        "* **Flexible aggregation:** Allows different aggregation functions on different columns.\n",
        "* **Data exploration:** Helps quickly spot trends, patterns, and relationships in data.\n",
        "\n",
        "In essence, pivot tables simplify complex datasets into concise, meaningful summaries for better insight.\n"
      ],
      "metadata": {
        "id": "QNO1I2lMvOMC"
      }
    },
    {
      "cell_type": "markdown",
      "source": [
        "# 21.Why is NumPy’s array slicing faster than Python’s list slicing?\n",
        "  - NumPy’s array slicing is faster than Python’s list slicing because:\n",
        "\n",
        "1. **Contiguous Memory Storage:**\n",
        "   NumPy arrays store data in a continuous block of memory, allowing fast access and efficient slicing without copying data.\n",
        "\n",
        "2. **Fixed Data Type:**\n",
        "   All elements in a NumPy array have the same data type, enabling optimized low-level operations and avoiding type-checking overhead.\n",
        "\n",
        "3. **Views Instead of Copies:**\n",
        "   NumPy slicing returns a **view** of the original array, meaning it references the same data without creating a new array, reducing memory use and speeding up slicing.\n",
        "\n",
        "4. **Vectorized Operations:**\n",
        "   NumPy leverages optimized C code for slicing and processing, whereas Python lists are more general-purpose and slower due to their dynamic and heterogeneous nature.\n",
        "\n",
        "In contrast, Python lists are arrays of pointers to objects scattered in memory, so slicing involves creating new lists and copying references, which is slower.\n"
      ],
      "metadata": {
        "id": "918gTaNmvasB"
      }
    },
    {
      "cell_type": "markdown",
      "source": [
        "# 22.What are some common use cases for Seaborn?\n",
        "   - Some common use cases for **Seaborn** include:\n",
        "\n",
        "1. **Statistical Data Visualization:** Creating plots that show statistical relationships like distributions, regressions, and categorical comparisons.\n",
        "\n",
        "2. **Exploratory Data Analysis (EDA):** Quickly visualizing data patterns, trends, and outliers with easy-to-use functions.\n",
        "\n",
        "3. **Visualizing Distributions:** Plotting histograms, KDE plots, and rug plots to understand data distribution.\n",
        "\n",
        "4. **Comparing Categories:** Using bar plots, box plots, and violin plots to compare groups or categories.\n",
        "\n",
        "5. **Correlation Analysis:** Visualizing correlation matrices with heatmaps or pairplots to understand variable relationships.\n",
        "\n",
        "6. **Regression Analysis:** Plotting regression lines with confidence intervals using `lmplot()` or `regplot()`.\n",
        "\n",
        "7. **Multivariate Analysis:** Using pairplots or jointplots to explore relationships between multiple variables simultaneously.\n",
        "\n",
        "8. **Theming and Styling:** Applying aesthetically pleasing, consistent themes to plots for presentation-ready visuals.\n",
        "\n",
        "Seaborn is popular because it builds on Matplotlib but simplifies complex visualizations with better defaults and integrated statistical functionality.\n"
      ],
      "metadata": {
        "id": "eZXqYQudvnEa"
      }
    },
    {
      "cell_type": "markdown",
      "source": [
        "# **Practical**"
      ],
      "metadata": {
        "id": "mSJ2Lh1Jvx9A"
      }
    },
    {
      "cell_type": "code",
      "source": [
        "# 1.How do you create a 2D NumPy array and calculate the sum of each row?\n",
        "import numpy as np\n",
        "\n",
        "# Create a 2D NumPy array\n",
        "arr = np.array([[1, 2, 3],\n",
        "                [4, 5, 6],\n",
        "                [7, 8, 9]])\n",
        "\n",
        "# Calculate the sum of each row\n",
        "row_sums = arr.sum(axis=1)\n",
        "\n",
        "print(row_sums)\n"
      ],
      "metadata": {
        "colab": {
          "base_uri": "https://localhost:8080/"
        },
        "id": "A6Q_PbFRv3ZX",
        "outputId": "130290ea-4982-424b-9dc8-f717ba5a5f46"
      },
      "execution_count": 1,
      "outputs": [
        {
          "output_type": "stream",
          "name": "stdout",
          "text": [
            "[ 6 15 24]\n"
          ]
        }
      ]
    },
    {
      "cell_type": "code",
      "source": [
        "# 2.Write a Pandas script to find the mean of a specific column in a DataFrame.\n",
        "import pandas as pd\n",
        "\n",
        "# Sample DataFrame\n",
        "data = {\n",
        "    'Name': ['Alice', 'Bob', 'Charlie'],\n",
        "    'Age': [25, 30, 35],\n",
        "    'Salary': [50000, 60000, 70000]\n",
        "}\n",
        "\n",
        "df = pd.DataFrame(data)\n",
        "\n",
        "# Calculate mean of the 'Age' column\n",
        "mean_age = df['Age'].mean()\n",
        "\n",
        "print(\"Mean age:\", mean_age)\n"
      ],
      "metadata": {
        "colab": {
          "base_uri": "https://localhost:8080/"
        },
        "id": "TuSOyiVRwIa7",
        "outputId": "4b6d9e47-5aa8-4f8f-b37e-7a1c1b14fbc3"
      },
      "execution_count": 2,
      "outputs": [
        {
          "output_type": "stream",
          "name": "stdout",
          "text": [
            "Mean age: 30.0\n"
          ]
        }
      ]
    },
    {
      "cell_type": "code",
      "source": [
        "# 3.Create a scatter plot using Matplotlib.\n",
        "import matplotlib.pyplot as plt\n",
        "\n",
        "# Sample data\n",
        "x = [1, 2, 3, 4, 5]\n",
        "y = [5, 7, 4, 6, 8]\n",
        "\n",
        "# Create scatter plot\n",
        "plt.scatter(x, y)\n",
        "\n",
        "# Add labels and title\n",
        "plt.xlabel('X-axis')\n",
        "plt.ylabel('Y-axis')\n",
        "plt.title('Simple Scatter Plot')\n",
        "\n",
        "# Show plot\n",
        "plt.show()\n"
      ],
      "metadata": {
        "colab": {
          "base_uri": "https://localhost:8080/",
          "height": 472
        },
        "id": "KIMR9_2JwVV8",
        "outputId": "7ca1b56f-5bbf-4ff7-c5f0-d64d2009449b"
      },
      "execution_count": 3,
      "outputs": [
        {
          "output_type": "display_data",
          "data": {
            "text/plain": [
              "<Figure size 640x480 with 1 Axes>"
            ],
            "image/png": "[encoded data removed]"
          },
          "metadata": {}
        }
      ]
    },
    {
      "cell_type": "code",
      "source": [
        "# 4.How do you calculate the correlation matrix using Seaborn and visualize it with a heatmap?\n",
        "import pandas as pd\n",
        "import seaborn as sns\n",
        "import matplotlib.pyplot as plt\n",
        "\n",
        "# Sample DataFrame\n",
        "data = {\n",
        "    'A': [1, 2, 3, 4, 5],\n",
        "    'B': [5, 4, 3, 2, 1],\n",
        "    'C': [2, 3, 4, 5, 6]\n",
        "}\n",
        "\n",
        "df = pd.DataFrame(data)\n",
        "\n",
        "# Calculate correlation matrix\n",
        "corr = df.corr()\n",
        "\n",
        "# Plot heatmap of correlation matrix\n",
        "sns.heatmap(corr, annot=True, cmap='coolwarm')\n",
        "\n",
        "plt.title('Correlation Matrix Heatmap')\n",
        "plt.show()\n"
      ],
      "metadata": {
        "colab": {
          "base_uri": "https://localhost:8080/",
          "height": 452
        },
        "id": "av5SFQ8awmu9",
        "outputId": "cf5ec081-80c1-41ae-9301-c545d86dd138"
      },
      "execution_count": 4,
      "outputs": [
        {
          "output_type": "display_data",
          "data": {
            "text/plain": [
              "<Figure size 640x480 with 2 Axes>"
            ],
            "image/png": "[encoded data removed]"
          },
          "metadata": {}
        }
      ]
    },
    {
      "cell_type": "code",
      "source": [
        "# 5.Generate a bar plot using Plotly.\n",
        "import plotly.express as px\n",
        "\n",
        "# Sample data\n",
        "data = {\n",
        "    'Fruits': ['Apples', 'Oranges', 'Bananas', 'Grapes'],\n",
        "    'Quantity': [10, 15, 7, 12]\n",
        "}\n",
        "\n",
        "# Create bar plot\n",
        "fig = px.bar(data, x='Fruits', y='Quantity', title='Fruit Quantity')\n",
        "\n",
        "# Show plot\n",
        "fig.show()\n"
      ],
      "metadata": {
        "colab": {
          "base_uri": "https://localhost:8080/",
          "height": 542
        },
        "id": "9c5m4rhKw3BU",
        "outputId": "abf69e91-a3c3-4b66-bb5d-4113c07f7d9e"
      },
      "execution_count": 5,
      "outputs": [
        {
          "output_type": "display_data",
          "data": {
            "text/html": [
              "<html>\n",
              "<head><meta charset=\"utf-8\" /></head>\n",
              "<body>\n",
              "    <div>            <script src=\"https://cdnjs.cloudflare.com/ajax/libs/mathjax/2.7.5/MathJax.js?config=TeX-AMS-MML_SVG\"></script><script type=\"text/javascript\">if (window.MathJax && window.MathJax.Hub && window.MathJax.Hub.Config) {window.MathJax.Hub.Config({SVG: {font: \"STIX-Web\"}});}</script>                <script type=\"text/javascript\">window.PlotlyConfig = {MathJaxConfig: 'local'};</script>\n",
              "        <script charset=\"utf-8\" src=\"https://cdn.plot.ly/plotly-2.35.2.min.js\"></script>                <div id=\"2b7fa0ea-0ba5-4e20-aaaf-f70cb1e5d860\" class=\"plotly-graph-div\" style=\"height:525px; width:100%;\"></div>            <script type=\"text/javascript\">                                    window.PLOTLYENV=window.PLOTLYENV || {};                                    if (document.getElementById(\"2b7fa0ea-0ba5-4e20-aaaf-f70cb1e5d860\")) {                    Plotly.newPlot(                        \"2b7fa0ea-0ba5-4e20-aaaf-f70cb1e5d860\",                        [{\"alignmentgroup\":\"True\",\"hovertemplate\":\"Fruits=%{x}\\u003cbr\\u003eQuantity=%{y}\\u003cextra\\u003e\\u003c\\u002fextra\\u003e\",\"legendgroup\":\"\",\"marker\":{\"color\":\"#636efa\",\"pattern\":{\"shape\":\"\"}},\"name\":\"\",\"offsetgroup\":\"\",\"orientation\":\"v\",\"showlegend\":false,\"textposition\":\"auto\",\"x\":[\"Apples\",\"Oranges\",\"Bananas\",\"Grapes\"],\"xaxis\":\"x\",\"y\":[10,15,7,12],\"yaxis\":\"y\",\"type\":\"bar\"}],                        {\"template\":{\"data\":{\"histogram2dcontour\":[{\"type\":\"histogram2dcontour\",\"colorbar\":{\"outlinewidth\":0,\"ticks\":\"\"},\"colorscale\":[[0.0,\"#0d0887\"],[0.1111111111111111,\"#46039f\"],[0.2222222222222222,\"#7201a8\"],[0.3333333333333333,\"#9c179e\"],[0.4444444444444444,\"#bd3786\"],[0.5555555555555556,\"#d8576b\"],[0.6666666666666666,\"#ed7953\"],[0.7777777777777778,\"#fb9f3a\"],[0.8888888888888888,\"#fdca26\"],[1.0,\"#f0f921\"]]}],\"choropleth\":[{\"type\":\"choropleth\",\"colorbar\":{\"outlinewidth\":0,\"ticks\":\"\"}}],\"histogram2d\":[{\"type\":\"histogram2d\",\"colorbar\":{\"outlinewidth\":0,\"ticks\":\"\"},\"colorscale\":[[0.0,\"#0d0887\"],[0.1111111111111111,\"#46039f\"],[0.2222222222222222,\"#7201a8\"],[0.3333333333333333,\"#9c179e\"],[0.4444444444444444,\"#bd3786\"],[0.5555555555555556,\"#d8576b\"],[0.6666666666666666,\"#ed7953\"],[0.7777777777777778,\"#fb9f3a\"],[0.8888888888888888,\"#fdca26\"],[1.0,\"#f0f921\"]]}],\"heatmap\":[{\"type\":\"heatmap\",\"colorbar\":{\"outlinewidth\":0,\"ticks\":\"\"},\"colorscale\":[[0.0,\"#0d0887\"],[0.1111111111111111,\"#46039f\"],[0.2222222222222222,\"#7201a8\"],[0.3333333333333333,\"#9c179e\"],[0.4444444444444444,\"#bd3786\"],[0.5555555555555556,\"#d8576b\"],[0.6666666666666666,\"#ed7953\"],[0.7777777777777778,\"#fb9f3a\"],[0.8888888888888888,\"#fdca26\"],[1.0,\"#f0f921\"]]}],\"heatmapgl\":[{\"type\":\"heatmapgl\",\"colorbar\":{\"outlinewidth\":0,\"ticks\":\"\"},\"colorscale\":[[0.0,\"#0d0887\"],[0.1111111111111111,\"#46039f\"],[0.2222222222222222,\"#7201a8\"],[0.3333333333333333,\"#9c179e\"],[0.4444444444444444,\"#bd3786\"],[0.5555555555555556,\"#d8576b\"],[0.6666666666666666,\"#ed7953\"],[0.7777777777777778,\"#fb9f3a\"],[0.8888888888888888,\"#fdca26\"],[1.0,\"#f0f921\"]]}],\"contourcarpet\":[{\"type\":\"contourcarpet\",\"colorbar\":{\"outlinewidth\":0,\"ticks\":\"\"}}],\"contour\":[{\"type\":\"contour\",\"colorbar\":{\"outlinewidth\":0,\"ticks\":\"\"},\"colorscale\":[[0.0,\"#0d0887\"],[0.1111111111111111,\"#46039f\"],[0.2222222222222222,\"#7201a8\"],[0.3333333333333333,\"#9c179e\"],[0.4444444444444444,\"#bd3786\"],[0.5555555555555556,\"#d8576b\"],[0.6666666666666666,\"#ed7953\"],[0.7777777777777778,\"#fb9f3a\"],[0.8888888888888888,\"#fdca26\"],[1.0,\"#f0f921\"]]}],\"surface\":[{\"type\":\"surface\",\"colorbar\":{\"outlinewidth\":0,\"ticks\":\"\"},\"colorscale\":[[0.0,\"#0d0887\"],[0.1111111111111111,\"#46039f\"],[0.2222222222222222,\"#7201a8\"],[0.3333333333333333,\"#9c179e\"],[0.4444444444444444,\"#bd3786\"],[0.5555555555555556,\"#d8576b\"],[0.6666666666666666,\"#ed7953\"],[0.7777777777777778,\"#fb9f3a\"],[0.8888888888888888,\"#fdca26\"],[1.0,\"#f0f921\"]]}],\"mesh3d\":[{\"type\":\"mesh3d\",\"colorbar\":{\"outlinewidth\":0,\"ticks\":\"\"}}],\"scatter\":[{\"fillpattern\":{\"fillmode\":\"overlay\",\"size\":10,\"solidity\":0.2},\"type\":\"scatter\"}],\"parcoords\":[{\"type\":\"parcoords\",\"line\":{\"colorbar\":{\"outlinewidth\":0,\"ticks\":\"\"}}}],\"scatterpolargl\":[{\"type\":\"scatterpolargl\",\"marker\":{\"colorbar\":{\"outlinewidth\":0,\"ticks\":\"\"}}}],\"bar\":[{\"error_x\":{\"color\":\"#2a3f5f\"},\"error_y\":{\"color\":\"#2a3f5f\"},\"marker\":{\"line\":{\"color\":\"#E5ECF6\",\"width\":0.5},\"pattern\":{\"fillmode\":\"overlay\",\"size\":10,\"solidity\":0.2}},\"type\":\"bar\"}],\"scattergeo\":[{\"type\":\"scattergeo\",\"marker\":{\"colorbar\":{\"outlinewidth\":0,\"ticks\":\"\"}}}],\"scatterpolar\":[{\"type\":\"scatterpolar\",\"marker\":{\"colorbar\":{\"outlinewidth\":0,\"ticks\":\"\"}}}],\"histogram\":[{\"marker\":{\"pattern\":{\"fillmode\":\"overlay\",\"size\":10,\"solidity\":0.2}},\"type\":\"histogram\"}],\"scattergl\":[{\"type\":\"scattergl\",\"marker\":{\"colorbar\":{\"outlinewidth\":0,\"ticks\":\"\"}}}],\"scatter3d\":[{\"type\":\"scatter3d\",\"line\":{\"colorbar\":{\"outlinewidth\":0,\"ticks\":\"\"}},\"marker\":{\"colorbar\":{\"outlinewidth\":0,\"ticks\":\"\"}}}],\"scattermapbox\":[{\"type\":\"scattermapbox\",\"marker\":{\"colorbar\":{\"outlinewidth\":0,\"ticks\":\"\"}}}],\"scatterternary\":[{\"type\":\"scatterternary\",\"marker\":{\"colorbar\":{\"outlinewidth\":0,\"ticks\":\"\"}}}],\"scattercarpet\":[{\"type\":\"scattercarpet\",\"marker\":{\"colorbar\":{\"outlinewidth\":0,\"ticks\":\"\"}}}],\"carpet\":[{\"aaxis\":{\"endlinecolor\":\"#2a3f5f\",\"gridcolor\":\"white\",\"linecolor\":\"white\",\"minorgridcolor\":\"white\",\"startlinecolor\":\"#2a3f5f\"},\"baxis\":{\"endlinecolor\":\"#2a3f5f\",\"gridcolor\":\"white\",\"linecolor\":\"white\",\"minorgridcolor\":\"white\",\"startlinecolor\":\"#2a3f5f\"},\"type\":\"carpet\"}],\"table\":[{\"cells\":{\"fill\":{\"color\":\"#EBF0F8\"},\"line\":{\"color\":\"white\"}},\"header\":{\"fill\":{\"color\":\"#C8D4E3\"},\"line\":{\"color\":\"white\"}},\"type\":\"table\"}],\"barpolar\":[{\"marker\":{\"line\":{\"color\":\"#E5ECF6\",\"width\":0.5},\"pattern\":{\"fillmode\":\"overlay\",\"size\":10,\"solidity\":0.2}},\"type\":\"barpolar\"}],\"pie\":[{\"automargin\":true,\"type\":\"pie\"}]},\"layout\":{\"autotypenumbers\":\"strict\",\"colorway\":[\"#636efa\",\"#EF553B\",\"#00cc96\",\"#ab63fa\",\"#FFA15A\",\"#19d3f3\",\"#FF6692\",\"#B6E880\",\"#FF97FF\",\"#FECB52\"],\"font\":{\"color\":\"#2a3f5f\"},\"hovermode\":\"closest\",\"hoverlabel\":{\"align\":\"left\"},\"paper_bgcolor\":\"white\",\"plot_bgcolor\":\"#E5ECF6\",\"polar\":{\"bgcolor\":\"#E5ECF6\",\"angularaxis\":{\"gridcolor\":\"white\",\"linecolor\":\"white\",\"ticks\":\"\"},\"radialaxis\":{\"gridcolor\":\"white\",\"linecolor\":\"white\",\"ticks\":\"\"}},\"ternary\":{\"bgcolor\":\"#E5ECF6\",\"aaxis\":{\"gridcolor\":\"white\",\"linecolor\":\"white\",\"ticks\":\"\"},\"baxis\":{\"gridcolor\":\"white\",\"linecolor\":\"white\",\"ticks\":\"\"},\"caxis\":{\"gridcolor\":\"white\",\"linecolor\":\"white\",\"ticks\":\"\"}},\"coloraxis\":{\"colorbar\":{\"outlinewidth\":0,\"ticks\":\"\"}},\"colorscale\":{\"sequential\":[[0.0,\"#0d0887\"],[0.1111111111111111,\"#46039f\"],[0.2222222222222222,\"#7201a8\"],[0.3333333333333333,\"#9c179e\"],[0.4444444444444444,\"#bd3786\"],[0.5555555555555556,\"#d8576b\"],[0.6666666666666666,\"#ed7953\"],[0.7777777777777778,\"#fb9f3a\"],[0.8888888888888888,\"#fdca26\"],[1.0,\"#f0f921\"]],\"sequentialminus\":[[0.0,\"#0d0887\"],[0.1111111111111111,\"#46039f\"],[0.2222222222222222,\"#7201a8\"],[0.3333333333333333,\"#9c179e\"],[0.4444444444444444,\"#bd3786\"],[0.5555555555555556,\"#d8576b\"],[0.6666666666666666,\"#ed7953\"],[0.7777777777777778,\"#fb9f3a\"],[0.8888888888888888,\"#fdca26\"],[1.0,\"#f0f921\"]],\"diverging\":[[0,\"#8e0152\"],[0.1,\"#c51b7d\"],[0.2,\"#de77ae\"],[0.3,\"#f1b6da\"],[0.4,\"#fde0ef\"],[0.5,\"#f7f7f7\"],[0.6,\"#e6f5d0\"],[0.7,\"#b8e186\"],[0.8,\"#7fbc41\"],[0.9,\"#4d9221\"],[1,\"#276419\"]]},\"xaxis\":{\"gridcolor\":\"white\",\"linecolor\":\"white\",\"ticks\":\"\",\"title\":{\"standoff\":15},\"zerolinecolor\":\"white\",\"automargin\":true,\"zerolinewidth\":2},\"yaxis\":{\"gridcolor\":\"white\",\"linecolor\":\"white\",\"ticks\":\"\",\"title\":{\"standoff\":15},\"zerolinecolor\":\"white\",\"automargin\":true,\"zerolinewidth\":2},\"scene\":{\"xaxis\":{\"backgroundcolor\":\"#E5ECF6\",\"gridcolor\":\"white\",\"linecolor\":\"white\",\"showbackground\":true,\"ticks\":\"\",\"zerolinecolor\":\"white\",\"gridwidth\":2},\"yaxis\":{\"backgroundcolor\":\"#E5ECF6\",\"gridcolor\":\"white\",\"linecolor\":\"white\",\"showbackground\":true,\"ticks\":\"\",\"zerolinecolor\":\"white\",\"gridwidth\":2},\"zaxis\":{\"backgroundcolor\":\"#E5ECF6\",\"gridcolor\":\"white\",\"linecolor\":\"white\",\"showbackground\":true,\"ticks\":\"\",\"zerolinecolor\":\"white\",\"gridwidth\":2}},\"shapedefaults\":{\"line\":{\"color\":\"#2a3f5f\"}},\"annotationdefaults\":{\"arrowcolor\":\"#2a3f5f\",\"arrowhead\":0,\"arrowwidth\":1},\"geo\":{\"bgcolor\":\"white\",\"landcolor\":\"#E5ECF6\",\"subunitcolor\":\"white\",\"showland\":true,\"showlakes\":true,\"lakecolor\":\"white\"},\"title\":{\"x\":0.05},\"mapbox\":{\"style\":\"light\"}}},\"xaxis\":{\"anchor\":\"y\",\"domain\":[0.0,1.0],\"title\":{\"text\":\"Fruits\"}},\"yaxis\":{\"anchor\":\"x\",\"domain\":[0.0,1.0],\"title\":{\"text\":\"Quantity\"}},\"legend\":{\"tracegroupgap\":0},\"title\":{\"text\":\"Fruit Quantity\"},\"barmode\":\"relative\"},                        {\"responsive\": true}                    ).then(function(){\n",
              "                            \n",
              "var gd = document.getElementById('2b7fa0ea-0ba5-4e20-aaaf-f70cb1e5d860');\n",
              "var x = new MutationObserver(function (mutations, observer) {{\n",
              "        var display = window.getComputedStyle(gd).display;\n",
              "        if (!display || display === 'none') {{\n",
              "            console.log([gd, 'removed!']);\n",
              "            Plotly.purge(gd);\n",
              "            observer.disconnect();\n",
              "        }}\n",
              "}});\n",
              "\n",
              "// Listen for the removal of the full notebook cells\n",
              "var notebookContainer = gd.closest('#notebook-container');\n",
              "if (notebookContainer) {{\n",
              "    x.observe(notebookContainer, {childList: true});\n",
              "}}\n",
              "\n",
              "// Listen for the clearing of the current output cell\n",
              "var outputEl = gd.closest('.output');\n",
              "if (outputEl) {{\n",
              "    x.observe(outputEl, {childList: true});\n",
              "}}\n",
              "\n",
              "                        })                };                            </script>        </div>\n",
              "</body>\n",
              "</html>"
            ]
          },
          "metadata": {}
        }
      ]
    },
    {
      "cell_type": "code",
      "source": [
        "# 6.Create a DataFrame and add a new column based on an existing column.\n",
        "import pandas as pd\n",
        "\n",
        "# Create a sample DataFrame\n",
        "data = {\n",
        "    'Name': ['Alice', 'Bob', 'Charlie'],\n",
        "    'Age': [25, 30, 35]\n",
        "}\n",
        "\n",
        "df = pd.DataFrame(data)\n",
        "\n",
        "# Add a new column 'Age_in_5_years' based on 'Age'\n",
        "df['Age_in_5_years'] = df['Age'] + 5\n",
        "\n",
        "print(df)\n"
      ],
      "metadata": {
        "colab": {
          "base_uri": "https://localhost:8080/"
        },
        "id": "39NZkbwQxKuL",
        "outputId": "93e52519-e315-4903-84f7-b87f464f1b04"
      },
      "execution_count": 6,
      "outputs": [
        {
          "output_type": "stream",
          "name": "stdout",
          "text": [
            "      Name  Age  Age_in_5_years\n",
            "0    Alice   25              30\n",
            "1      Bob   30              35\n",
            "2  Charlie   35              40\n"
          ]
        }
      ]
    },
    {
      "cell_type": "code",
      "source": [
        "# 7.Write a program to perform element-wise multiplication of two NumPy arrays.\n",
        "import numpy as np\n",
        "\n",
        "# Define two arrays\n",
        "array1 = np.array([1, 2, 3])\n",
        "array2 = np.array([4, 5, 6])\n",
        "\n",
        "# Element-wise multiplication\n",
        "result = array1 * array2\n",
        "\n",
        "print(result)\n"
      ],
      "metadata": {
        "colab": {
          "base_uri": "https://localhost:8080/"
        },
        "id": "-OKXLvazxKXx",
        "outputId": "0aa4276c-7f46-4a10-82cb-a681a75601b4"
      },
      "execution_count": 7,
      "outputs": [
        {
          "output_type": "stream",
          "name": "stdout",
          "text": [
            "[ 4 10 18]\n"
          ]
        }
      ]
    },
    {
      "cell_type": "code",
      "source": [
        "# 8.Create a line plot with multiple lines using Matplotlib.\n",
        "import matplotlib.pyplot as plt\n",
        "\n",
        "# Sample data\n",
        "x = [1, 2, 3, 4, 5]\n",
        "y1 = [2, 3, 5, 7, 11]\n",
        "y2 = [1, 4, 6, 8, 10]\n",
        "\n",
        "# Plot multiple lines\n",
        "plt.plot(x, y1, label='Line 1')\n",
        "plt.plot(x, y2, label='Line 2')\n",
        "\n",
        "# Add labels and title\n",
        "plt.xlabel('X-axis')\n",
        "plt.ylabel('Y-axis')\n",
        "plt.title('Line Plot with Multiple Lines')\n",
        "\n",
        "# Show legend\n",
        "plt.legend()\n",
        "\n",
        "# Show plot\n",
        "plt.show()\n"
      ],
      "metadata": {
        "colab": {
          "base_uri": "https://localhost:8080/",
          "height": 472
        },
        "id": "BmaQteF1xmGK",
        "outputId": "bdf2a389-c7ea-4e6d-cf53-297ee881cbb8"
      },
      "execution_count": 8,
      "outputs": [
        {
          "output_type": "display_data",
          "data": {
            "text/plain": [
              "<Figure size 640x480 with 1 Axes>"
            ],
            "image/png": "[encoded data removed]"
          },
          "metadata": {}
        }
      ]
    },
    {
      "cell_type": "code",
      "source": [
        "# 9. Generate a Pandas DataFrame and filter rows where a column value is greater than a threshold.\n",
        "import pandas as pd\n",
        "\n",
        "# Create sample DataFrame\n",
        "data = {\n",
        "    'Name': ['Alice', 'Bob', 'Charlie', 'David'],\n",
        "    'Age': [23, 35, 19, 42],\n",
        "    'Score': [85, 90, 78, 92]\n",
        "}\n",
        "\n",
        "df = pd.DataFrame(data)\n",
        "\n",
        "# Filter rows where 'Age' is greater than 30\n",
        "filtered_df = df[df['Age'] > 30]\n",
        "\n",
        "print(filtered_df)\n"
      ],
      "metadata": {
        "colab": {
          "base_uri": "https://localhost:8080/"
        },
        "id": "Y2fKc-7SxxUC",
        "outputId": "fbe0bf69-d9f6-4e5c-d800-d9de92074bae"
      },
      "execution_count": 9,
      "outputs": [
        {
          "output_type": "stream",
          "name": "stdout",
          "text": [
            "    Name  Age  Score\n",
            "1    Bob   35     90\n",
            "3  David   42     92\n"
          ]
        }
      ]
    },
    {
      "cell_type": "code",
      "source": [
        "# 10.Create a histogram using Seaborn to visualize a distribution.\n",
        "import seaborn as sns\n",
        "import matplotlib.pyplot as plt\n",
        "\n",
        "# Sample data\n",
        "data = [12, 15, 13, 17, 19, 21, 23, 23, 25, 27, 29, 30, 30, 32, 35]\n",
        "\n",
        "# Create histogram\n",
        "sns.histplot(data, bins=5, kde=False)\n",
        "\n",
        "# Add title and labels\n",
        "plt.title('Histogram of Sample Data')\n",
        "plt.xlabel('Value')\n",
        "plt.ylabel('Frequency')\n",
        "\n",
        "# Show plot\n",
        "plt.show()\n"
      ],
      "metadata": {
        "colab": {
          "base_uri": "https://localhost:8080/",
          "height": 472
        },
        "id": "zPm4SX4Ux-um",
        "outputId": "fb718bf8-c62f-4bba-f2f8-bd7c2093ea4d"
      },
      "execution_count": 10,
      "outputs": [
        {
          "output_type": "display_data",
          "data": {
            "text/plain": [
              "<Figure size 640x480 with 1 Axes>"
            ],
            "image/png": "[encoded data removed]"
          },
          "metadata": {}
        }
      ]
    },
    {
      "cell_type": "code",
      "source": [
        "# 11. Perform matrix multiplication using NumPy.\n",
        "import numpy as np\n",
        "\n",
        "# Define two matrices\n",
        "A = np.array([[1, 2],\n",
        "              [3, 4]])\n",
        "\n",
        "B = np.array([[5, 6],\n",
        "              [7, 8]])\n",
        "\n",
        "# Matrix multiplication\n",
        "result = np.dot(A, B)\n",
        "\n",
        "print(result)\n"
      ],
      "metadata": {
        "colab": {
          "base_uri": "https://localhost:8080/"
        },
        "id": "_lAb8yjeyIKO",
        "outputId": "f66252ef-886b-4c40-9bac-05b20937edba"
      },
      "execution_count": 11,
      "outputs": [
        {
          "output_type": "stream",
          "name": "stdout",
          "text": [
            "[[19 22]\n",
            " [43 50]]\n"
          ]
        }
      ]
    },
    {
      "cell_type": "code",
      "source": [
        "# 12.Use Pandas to load a CSV file and display its first 5 rows.\n",
        "from google.colab import files\n",
        "uploaded = files.upload()\n",
        "import pandas as pd\n",
        "\n",
        "filename = list(uploaded.keys())[0]\n",
        "df = pd.read_csv(filename)\n",
        "print(df.head())\n",
        "\n"
      ],
      "metadata": {
        "colab": {
          "base_uri": "https://localhost:8080/",
          "height": 177
        },
        "id": "DsUAOdALyWXy",
        "outputId": "4ad6457c-1aac-4522-b196-80d673603d94"
      },
      "execution_count": 23,
      "outputs": [
        {
          "output_type": "display_data",
          "data": {
            "text/plain": [
              "<IPython.core.display.HTML object>"
            ],
            "text/html": [
              "\n",
              "     <input type=\"file\" id=\"files-f0c09069-92ec-48a9-a0bb-36dc5a65d31d\" name=\"files[]\" multiple disabled\n",
              "        style=\"border:none\" />\n",
              "     <output id=\"result-f0c09069-92ec-48a9-a0bb-36dc5a65d31d\">\n",
              "      Upload widget is only available when the cell has been executed in the\n",
              "      current browser session. Please rerun this cell to enable.\n",
              "      </output>\n",
              "      <script>// Copyright 2017 Google LLC\n",
              "//\n",
              "// Licensed under the Apache License, Version 2.0 (the \"License\");\n",
              "// you may not use this file except in compliance with the License.\n",
              "// You may obtain a copy of the License at\n",
              "//\n",
              "//      http://www.apache.org/licenses/LICENSE-2.0\n",
              "//\n",
              "// Unless required by applicable law or agreed to in writing, software\n",
              "// distributed under the License is distributed on an \"AS IS\" BASIS,\n",
              "// WITHOUT WARRANTIES OR CONDITIONS OF ANY KIND, either express or implied.\n",
              "// See the License for the specific language governing permissions and\n",
              "// limitations under the License.\n",
              "\n",
              "/**\n",
              " * @fileoverview Helpers for google.colab Python module.\n",
              " */\n",
              "(function(scope) {\n",
              "function span(text, styleAttributes = {}) {\n",
              "  const element = document.createElement('span');\n",
              "  element.textContent = text;\n",
              "  for (const key of Object.keys(styleAttributes)) {\n",
              "    element.style[key] = styleAttributes[key];\n",
              "  }\n",
              "  return element;\n",
              "}\n",
              "\n",
              "// Max number of bytes which will be uploaded at a time.\n",
              "const MAX_PAYLOAD_SIZE = 100 * 1024;\n",
              "\n",
              "function _uploadFiles(inputId, outputId) {\n",
              "  const steps = uploadFilesStep(inputId, outputId);\n",
              "  const outputElement = document.getElementById(outputId);\n",
              "  // Cache steps on the outputElement to make it available for the next call\n",
              "  // to uploadFilesContinue from Python.\n",
              "  outputElement.steps = steps;\n",
              "\n",
              "  return _uploadFilesContinue(outputId);\n",
              "}\n",
              "\n",
              "// This is roughly an async generator (not supported in the browser yet),\n",
              "// where there are multiple asynchronous steps and the Python side is going\n",
              "// to poll for completion of each step.\n",
              "// This uses a Promise to block the python side on completion of each step,\n",
              "// then passes the result of the previous step as the input to the next step.\n",
              "function _uploadFilesContinue(outputId) {\n",
              "  const outputElement = document.getElementById(outputId);\n",
              "  const steps = outputElement.steps;\n",
              "\n",
              "  const next = steps.next(outputElement.lastPromiseValue);\n",
              "  return Promise.resolve(next.value.promise).then((value) => {\n",
              "    // Cache the last promise value to make it available to the next\n",
              "    // step of the generator.\n",
              "    outputElement.lastPromiseValue = value;\n",
              "    return next.value.response;\n",
              "  });\n",
              "}\n",
              "\n",
              "/**\n",
              " * Generator function which is called between each async step of the upload\n",
              " * process.\n",
              " * @param {string} inputId Element ID of the input file picker element.\n",
              " * @param {string} outputId Element ID of the output display.\n",
              " * @return {!Iterable<!Object>} Iterable of next steps.\n",
              " */\n",
              "function* uploadFilesStep(inputId, outputId) {\n",
              "  const inputElement = document.getElementById(inputId);\n",
              "  inputElement.disabled = false;\n",
              "\n",
              "  const outputElement = document.getElementById(outputId);\n",
              "  outputElement.innerHTML = '';\n",
              "\n",
              "  const pickedPromise = new Promise((resolve) => {\n",
              "    inputElement.addEventListener('change', (e) => {\n",
              "      resolve(e.target.files);\n",
              "    });\n",
              "  });\n",
              "\n",
              "  const cancel = document.createElement('button');\n",
              "  inputElement.parentElement.appendChild(cancel);\n",
              "  cancel.textContent = 'Cancel upload';\n",
              "  const cancelPromise = new Promise((resolve) => {\n",
              "    cancel.onclick = () => {\n",
              "      resolve(null);\n",
              "    };\n",
              "  });\n",
              "\n",
              "  // Wait for the user to pick the files.\n",
              "  const files = yield {\n",
              "    promise: Promise.race([pickedPromise, cancelPromise]),\n",
              "    response: {\n",
              "      action: 'starting',\n",
              "    }\n",
              "  };\n",
              "\n",
              "  cancel.remove();\n",
              "\n",
              "  // Disable the input element since further picks are not allowed.\n",
              "  inputElement.disabled = true;\n",
              "\n",
              "  if (!files) {\n",
              "    return {\n",
              "      response: {\n",
              "        action: 'complete',\n",
              "      }\n",
              "    };\n",
              "  }\n",
              "\n",
              "  for (const file of files) {\n",
              "    const li = document.createElement('li');\n",
              "    li.append(span(file.name, {fontWeight: 'bold'}));\n",
              "    li.append(span(\n",
              "        `(${file.type || 'n/a'}) - ${file.size} bytes, ` +\n",
              "        `last modified: ${\n",
              "            file.lastModifiedDate ? file.lastModifiedDate.toLocaleDateString() :\n",
              "                                    'n/a'} - `));\n",
              "    const percent = span('0% done');\n",
              "    li.appendChild(percent);\n",
              "\n",
              "    outputElement.appendChild(li);\n",
              "\n",
              "    const fileDataPromise = new Promise((resolve) => {\n",
              "      const reader = new FileReader();\n",
              "      reader.onload = (e) => {\n",
              "        resolve(e.target.result);\n",
              "      };\n",
              "      reader.readAsArrayBuffer(file);\n",
              "    });\n",
              "    // Wait for the data to be ready.\n",
              "    let fileData = yield {\n",
              "      promise: fileDataPromise,\n",
              "      response: {\n",
              "        action: 'continue',\n",
              "      }\n",
              "    };\n",
              "\n",
              "    // Use a chunked sending to avoid message size limits. See b/62115660.\n",
              "    let position = 0;\n",
              "    do {\n",
              "      const length = Math.min(fileData.byteLength - position, MAX_PAYLOAD_SIZE);\n",
              "      const chunk = new Uint8Array(fileData, position, length);\n",
              "      position += length;\n",
              "\n",
              "      const base64 = btoa(String.fromCharCode.apply(null, chunk));\n",
              "      yield {\n",
              "        response: {\n",
              "          action: 'append',\n",
              "          file: file.name,\n",
              "          data: base64,\n",
              "        },\n",
              "      };\n",
              "\n",
              "      let percentDone = fileData.byteLength === 0 ?\n",
              "          100 :\n",
              "          Math.round((position / fileData.byteLength) * 100);\n",
              "      percent.textContent = `${percentDone}% done`;\n",
              "\n",
              "    } while (position < fileData.byteLength);\n",
              "  }\n",
              "\n",
              "  // All done.\n",
              "  yield {\n",
              "    response: {\n",
              "      action: 'complete',\n",
              "    }\n",
              "  };\n",
              "}\n",
              "\n",
              "scope.google = scope.google || {};\n",
              "scope.google.colab = scope.google.colab || {};\n",
              "scope.google.colab._files = {\n",
              "  _uploadFiles,\n",
              "  _uploadFilesContinue,\n",
              "};\n",
              "})(self);\n",
              "</script> "
            ]
          },
          "metadata": {}
        },
        {
          "output_type": "stream",
          "name": "stdout",
          "text": [
            "Saving yourfile.csv to yourfile (3).csv\n",
            "      Name  Age  Score\n",
            "0    Alice   25     85\n",
            "1      Bob   30     90\n",
            "2  Charlie   22     78\n",
            "3    David   28     92\n",
            "4      Eve   24     88\n"
          ]
        }
      ]
    },
    {
      "cell_type": "code",
      "source": [
        "# 13.Create a 3D scatter plot using Plotly.\n",
        "import plotly.express as px\n",
        "import pandas as pd\n",
        "\n",
        "# Sample data\n",
        "df = pd.DataFrame({\n",
        "    'x': [1, 2, 3, 4, 5],\n",
        "    'y': [10, 11, 12, 13, 14],\n",
        "    'z': [5, 6, 7, 8, 9],\n",
        "    'category': ['A', 'B', 'A', 'B', 'A']\n",
        "})\n",
        "\n",
        "# Create 3D scatter plot\n",
        "fig = px.scatter_3d(df, x='x', y='y', z='z', color='category', title='3D Scatter Plot')\n",
        "\n",
        "fig.show()\n"
      ],
      "metadata": {
        "colab": {
          "base_uri": "https://localhost:8080/",
          "height": 542
        },
        "id": "IW9LCfUr1XwH",
        "outputId": "782da240-5723-430c-afdc-993d4ea6d476"
      },
      "execution_count": 24,
      "outputs": [
        {
          "output_type": "display_data",
          "data": {
            "text/html": [
              "<html>\n",
              "<head><meta charset=\"utf-8\" /></head>\n",
              "<body>\n",
              "    <div>            <script src=\"https://cdnjs.cloudflare.com/ajax/libs/mathjax/2.7.5/MathJax.js?config=TeX-AMS-MML_SVG\"></script><script type=\"text/javascript\">if (window.MathJax && window.MathJax.Hub && window.MathJax.Hub.Config) {window.MathJax.Hub.Config({SVG: {font: \"STIX-Web\"}});}</script>                <script type=\"text/javascript\">window.PlotlyConfig = {MathJaxConfig: 'local'};</script>\n",
              "        <script charset=\"utf-8\" src=\"https://cdn.plot.ly/plotly-2.35.2.min.js\"></script>                <div id=\"3b3c94d5-34c8-4b08-a2fb-dfeee8b8d8be\" class=\"plotly-graph-div\" style=\"height:525px; width:100%;\"></div>            <script type=\"text/javascript\">                                    window.PLOTLYENV=window.PLOTLYENV || {};                                    if (document.getElementById(\"3b3c94d5-34c8-4b08-a2fb-dfeee8b8d8be\")) {                    Plotly.newPlot(                        \"3b3c94d5-34c8-4b08-a2fb-dfeee8b8d8be\",                        [{\"hovertemplate\":\"category=A\\u003cbr\\u003ex=%{x}\\u003cbr\\u003ey=%{y}\\u003cbr\\u003ez=%{z}\\u003cextra\\u003e\\u003c\\u002fextra\\u003e\",\"legendgroup\":\"A\",\"marker\":{\"color\":\"#636efa\",\"symbol\":\"circle\"},\"mode\":\"markers\",\"name\":\"A\",\"scene\":\"scene\",\"showlegend\":true,\"x\":[1,3,5],\"y\":[10,12,14],\"z\":[5,7,9],\"type\":\"scatter3d\"},{\"hovertemplate\":\"category=B\\u003cbr\\u003ex=%{x}\\u003cbr\\u003ey=%{y}\\u003cbr\\u003ez=%{z}\\u003cextra\\u003e\\u003c\\u002fextra\\u003e\",\"legendgroup\":\"B\",\"marker\":{\"color\":\"#EF553B\",\"symbol\":\"circle\"},\"mode\":\"markers\",\"name\":\"B\",\"scene\":\"scene\",\"showlegend\":true,\"x\":[2,4],\"y\":[11,13],\"z\":[6,8],\"type\":\"scatter3d\"}],                        {\"template\":{\"data\":{\"histogram2dcontour\":[{\"type\":\"histogram2dcontour\",\"colorbar\":{\"outlinewidth\":0,\"ticks\":\"\"},\"colorscale\":[[0.0,\"#0d0887\"],[0.1111111111111111,\"#46039f\"],[0.2222222222222222,\"#7201a8\"],[0.3333333333333333,\"#9c179e\"],[0.4444444444444444,\"#bd3786\"],[0.5555555555555556,\"#d8576b\"],[0.6666666666666666,\"#ed7953\"],[0.7777777777777778,\"#fb9f3a\"],[0.8888888888888888,\"#fdca26\"],[1.0,\"#f0f921\"]]}],\"choropleth\":[{\"type\":\"choropleth\",\"colorbar\":{\"outlinewidth\":0,\"ticks\":\"\"}}],\"histogram2d\":[{\"type\":\"histogram2d\",\"colorbar\":{\"outlinewidth\":0,\"ticks\":\"\"},\"colorscale\":[[0.0,\"#0d0887\"],[0.1111111111111111,\"#46039f\"],[0.2222222222222222,\"#7201a8\"],[0.3333333333333333,\"#9c179e\"],[0.4444444444444444,\"#bd3786\"],[0.5555555555555556,\"#d8576b\"],[0.6666666666666666,\"#ed7953\"],[0.7777777777777778,\"#fb9f3a\"],[0.8888888888888888,\"#fdca26\"],[1.0,\"#f0f921\"]]}],\"heatmap\":[{\"type\":\"heatmap\",\"colorbar\":{\"outlinewidth\":0,\"ticks\":\"\"},\"colorscale\":[[0.0,\"#0d0887\"],[0.1111111111111111,\"#46039f\"],[0.2222222222222222,\"#7201a8\"],[0.3333333333333333,\"#9c179e\"],[0.4444444444444444,\"#bd3786\"],[0.5555555555555556,\"#d8576b\"],[0.6666666666666666,\"#ed7953\"],[0.7777777777777778,\"#fb9f3a\"],[0.8888888888888888,\"#fdca26\"],[1.0,\"#f0f921\"]]}],\"heatmapgl\":[{\"type\":\"heatmapgl\",\"colorbar\":{\"outlinewidth\":0,\"ticks\":\"\"},\"colorscale\":[[0.0,\"#0d0887\"],[0.1111111111111111,\"#46039f\"],[0.2222222222222222,\"#7201a8\"],[0.3333333333333333,\"#9c179e\"],[0.4444444444444444,\"#bd3786\"],[0.5555555555555556,\"#d8576b\"],[0.6666666666666666,\"#ed7953\"],[0.7777777777777778,\"#fb9f3a\"],[0.8888888888888888,\"#fdca26\"],[1.0,\"#f0f921\"]]}],\"contourcarpet\":[{\"type\":\"contourcarpet\",\"colorbar\":{\"outlinewidth\":0,\"ticks\":\"\"}}],\"contour\":[{\"type\":\"contour\",\"colorbar\":{\"outlinewidth\":0,\"ticks\":\"\"},\"colorscale\":[[0.0,\"#0d0887\"],[0.1111111111111111,\"#46039f\"],[0.2222222222222222,\"#7201a8\"],[0.3333333333333333,\"#9c179e\"],[0.4444444444444444,\"#bd3786\"],[0.5555555555555556,\"#d8576b\"],[0.6666666666666666,\"#ed7953\"],[0.7777777777777778,\"#fb9f3a\"],[0.8888888888888888,\"#fdca26\"],[1.0,\"#f0f921\"]]}],\"surface\":[{\"type\":\"surface\",\"colorbar\":{\"outlinewidth\":0,\"ticks\":\"\"},\"colorscale\":[[0.0,\"#0d0887\"],[0.1111111111111111,\"#46039f\"],[0.2222222222222222,\"#7201a8\"],[0.3333333333333333,\"#9c179e\"],[0.4444444444444444,\"#bd3786\"],[0.5555555555555556,\"#d8576b\"],[0.6666666666666666,\"#ed7953\"],[0.7777777777777778,\"#fb9f3a\"],[0.8888888888888888,\"#fdca26\"],[1.0,\"#f0f921\"]]}],\"mesh3d\":[{\"type\":\"mesh3d\",\"colorbar\":{\"outlinewidth\":0,\"ticks\":\"\"}}],\"scatter\":[{\"fillpattern\":{\"fillmode\":\"overlay\",\"size\":10,\"solidity\":0.2},\"type\":\"scatter\"}],\"parcoords\":[{\"type\":\"parcoords\",\"line\":{\"colorbar\":{\"outlinewidth\":0,\"ticks\":\"\"}}}],\"scatterpolargl\":[{\"type\":\"scatterpolargl\",\"marker\":{\"colorbar\":{\"outlinewidth\":0,\"ticks\":\"\"}}}],\"bar\":[{\"error_x\":{\"color\":\"#2a3f5f\"},\"error_y\":{\"color\":\"#2a3f5f\"},\"marker\":{\"line\":{\"color\":\"#E5ECF6\",\"width\":0.5},\"pattern\":{\"fillmode\":\"overlay\",\"size\":10,\"solidity\":0.2}},\"type\":\"bar\"}],\"scattergeo\":[{\"type\":\"scattergeo\",\"marker\":{\"colorbar\":{\"outlinewidth\":0,\"ticks\":\"\"}}}],\"scatterpolar\":[{\"type\":\"scatterpolar\",\"marker\":{\"colorbar\":{\"outlinewidth\":0,\"ticks\":\"\"}}}],\"histogram\":[{\"marker\":{\"pattern\":{\"fillmode\":\"overlay\",\"size\":10,\"solidity\":0.2}},\"type\":\"histogram\"}],\"scattergl\":[{\"type\":\"scattergl\",\"marker\":{\"colorbar\":{\"outlinewidth\":0,\"ticks\":\"\"}}}],\"scatter3d\":[{\"type\":\"scatter3d\",\"line\":{\"colorbar\":{\"outlinewidth\":0,\"ticks\":\"\"}},\"marker\":{\"colorbar\":{\"outlinewidth\":0,\"ticks\":\"\"}}}],\"scattermapbox\":[{\"type\":\"scattermapbox\",\"marker\":{\"colorbar\":{\"outlinewidth\":0,\"ticks\":\"\"}}}],\"scatterternary\":[{\"type\":\"scatterternary\",\"marker\":{\"colorbar\":{\"outlinewidth\":0,\"ticks\":\"\"}}}],\"scattercarpet\":[{\"type\":\"scattercarpet\",\"marker\":{\"colorbar\":{\"outlinewidth\":0,\"ticks\":\"\"}}}],\"carpet\":[{\"aaxis\":{\"endlinecolor\":\"#2a3f5f\",\"gridcolor\":\"white\",\"linecolor\":\"white\",\"minorgridcolor\":\"white\",\"startlinecolor\":\"#2a3f5f\"},\"baxis\":{\"endlinecolor\":\"#2a3f5f\",\"gridcolor\":\"white\",\"linecolor\":\"white\",\"minorgridcolor\":\"white\",\"startlinecolor\":\"#2a3f5f\"},\"type\":\"carpet\"}],\"table\":[{\"cells\":{\"fill\":{\"color\":\"#EBF0F8\"},\"line\":{\"color\":\"white\"}},\"header\":{\"fill\":{\"color\":\"#C8D4E3\"},\"line\":{\"color\":\"white\"}},\"type\":\"table\"}],\"barpolar\":[{\"marker\":{\"line\":{\"color\":\"#E5ECF6\",\"width\":0.5},\"pattern\":{\"fillmode\":\"overlay\",\"size\":10,\"solidity\":0.2}},\"type\":\"barpolar\"}],\"pie\":[{\"automargin\":true,\"type\":\"pie\"}]},\"layout\":{\"autotypenumbers\":\"strict\",\"colorway\":[\"#636efa\",\"#EF553B\",\"#00cc96\",\"#ab63fa\",\"#FFA15A\",\"#19d3f3\",\"#FF6692\",\"#B6E880\",\"#FF97FF\",\"#FECB52\"],\"font\":{\"color\":\"#2a3f5f\"},\"hovermode\":\"closest\",\"hoverlabel\":{\"align\":\"left\"},\"paper_bgcolor\":\"white\",\"plot_bgcolor\":\"#E5ECF6\",\"polar\":{\"bgcolor\":\"#E5ECF6\",\"angularaxis\":{\"gridcolor\":\"white\",\"linecolor\":\"white\",\"ticks\":\"\"},\"radialaxis\":{\"gridcolor\":\"white\",\"linecolor\":\"white\",\"ticks\":\"\"}},\"ternary\":{\"bgcolor\":\"#E5ECF6\",\"aaxis\":{\"gridcolor\":\"white\",\"linecolor\":\"white\",\"ticks\":\"\"},\"baxis\":{\"gridcolor\":\"white\",\"linecolor\":\"white\",\"ticks\":\"\"},\"caxis\":{\"gridcolor\":\"white\",\"linecolor\":\"white\",\"ticks\":\"\"}},\"coloraxis\":{\"colorbar\":{\"outlinewidth\":0,\"ticks\":\"\"}},\"colorscale\":{\"sequential\":[[0.0,\"#0d0887\"],[0.1111111111111111,\"#46039f\"],[0.2222222222222222,\"#7201a8\"],[0.3333333333333333,\"#9c179e\"],[0.4444444444444444,\"#bd3786\"],[0.5555555555555556,\"#d8576b\"],[0.6666666666666666,\"#ed7953\"],[0.7777777777777778,\"#fb9f3a\"],[0.8888888888888888,\"#fdca26\"],[1.0,\"#f0f921\"]],\"sequentialminus\":[[0.0,\"#0d0887\"],[0.1111111111111111,\"#46039f\"],[0.2222222222222222,\"#7201a8\"],[0.3333333333333333,\"#9c179e\"],[0.4444444444444444,\"#bd3786\"],[0.5555555555555556,\"#d8576b\"],[0.6666666666666666,\"#ed7953\"],[0.7777777777777778,\"#fb9f3a\"],[0.8888888888888888,\"#fdca26\"],[1.0,\"#f0f921\"]],\"diverging\":[[0,\"#8e0152\"],[0.1,\"#c51b7d\"],[0.2,\"#de77ae\"],[0.3,\"#f1b6da\"],[0.4,\"#fde0ef\"],[0.5,\"#f7f7f7\"],[0.6,\"#e6f5d0\"],[0.7,\"#b8e186\"],[0.8,\"#7fbc41\"],[0.9,\"#4d9221\"],[1,\"#276419\"]]},\"xaxis\":{\"gridcolor\":\"white\",\"linecolor\":\"white\",\"ticks\":\"\",\"title\":{\"standoff\":15},\"zerolinecolor\":\"white\",\"automargin\":true,\"zerolinewidth\":2},\"yaxis\":{\"gridcolor\":\"white\",\"linecolor\":\"white\",\"ticks\":\"\",\"title\":{\"standoff\":15},\"zerolinecolor\":\"white\",\"automargin\":true,\"zerolinewidth\":2},\"scene\":{\"xaxis\":{\"backgroundcolor\":\"#E5ECF6\",\"gridcolor\":\"white\",\"linecolor\":\"white\",\"showbackground\":true,\"ticks\":\"\",\"zerolinecolor\":\"white\",\"gridwidth\":2},\"yaxis\":{\"backgroundcolor\":\"#E5ECF6\",\"gridcolor\":\"white\",\"linecolor\":\"white\",\"showbackground\":true,\"ticks\":\"\",\"zerolinecolor\":\"white\",\"gridwidth\":2},\"zaxis\":{\"backgroundcolor\":\"#E5ECF6\",\"gridcolor\":\"white\",\"linecolor\":\"white\",\"showbackground\":true,\"ticks\":\"\",\"zerolinecolor\":\"white\",\"gridwidth\":2}},\"shapedefaults\":{\"line\":{\"color\":\"#2a3f5f\"}},\"annotationdefaults\":{\"arrowcolor\":\"#2a3f5f\",\"arrowhead\":0,\"arrowwidth\":1},\"geo\":{\"bgcolor\":\"white\",\"landcolor\":\"#E5ECF6\",\"subunitcolor\":\"white\",\"showland\":true,\"showlakes\":true,\"lakecolor\":\"white\"},\"title\":{\"x\":0.05},\"mapbox\":{\"style\":\"light\"}}},\"scene\":{\"domain\":{\"x\":[0.0,1.0],\"y\":[0.0,1.0]},\"xaxis\":{\"title\":{\"text\":\"x\"}},\"yaxis\":{\"title\":{\"text\":\"y\"}},\"zaxis\":{\"title\":{\"text\":\"z\"}}},\"legend\":{\"title\":{\"text\":\"category\"},\"tracegroupgap\":0},\"title\":{\"text\":\"3D Scatter Plot\"}},                        {\"responsive\": true}                    ).then(function(){\n",
              "                            \n",
              "var gd = document.getElementById('3b3c94d5-34c8-4b08-a2fb-dfeee8b8d8be');\n",
              "var x = new MutationObserver(function (mutations, observer) {{\n",
              "        var display = window.getComputedStyle(gd).display;\n",
              "        if (!display || display === 'none') {{\n",
              "            console.log([gd, 'removed!']);\n",
              "            Plotly.purge(gd);\n",
              "            observer.disconnect();\n",
              "        }}\n",
              "}});\n",
              "\n",
              "// Listen for the removal of the full notebook cells\n",
              "var notebookContainer = gd.closest('#notebook-container');\n",
              "if (notebookContainer) {{\n",
              "    x.observe(notebookContainer, {childList: true});\n",
              "}}\n",
              "\n",
              "// Listen for the clearing of the current output cell\n",
              "var outputEl = gd.closest('.output');\n",
              "if (outputEl) {{\n",
              "    x.observe(outputEl, {childList: true});\n",
              "}}\n",
              "\n",
              "                        })                };                            </script>        </div>\n",
              "</body>\n",
              "</html>"
            ]
          },
          "metadata": {}
        }
      ]
    },
    {
      "cell_type": "markdown",
      "source": [
        "# **Thank** **you**"
      ],
      "metadata": {
        "id": "SPKM0_t81n33"
      }
    }
  ]
}